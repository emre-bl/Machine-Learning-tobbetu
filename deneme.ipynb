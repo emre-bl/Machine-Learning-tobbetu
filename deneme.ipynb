{
 "cells": [
  {
   "cell_type": "code",
   "execution_count": 41,
   "metadata": {},
   "outputs": [],
   "source": [
    "from sklearn.base import BaseEstimator, TransformerMixin\n",
    "\n",
    "\n",
    "class data_setter(BaseEstimator,TransformerMixin):\n",
    "    def fit(self,X,y=None):\n",
    "            return self\n",
    "    def transform(self,X):\n",
    "        import pandas as pd\n",
    "        from sklearn.preprocessing import MinMaxScaler  \n",
    "        from sklearn.model_selection import train_test_split\n",
    "        SEED = 12345\n",
    "\n",
    "        for col in X.columns:\n",
    "            if(X[col].nunique() == 1):\n",
    "                X.drop(col,inplace=True, axis=1)\n",
    "\n",
    "        X['Attrition'] = X['Attrition'].map({'Yes':1, 'No':0})\n",
    "        X['OverTime'] = X['OverTime'].map({'Yes':1, 'No':0})\n",
    "        X['MaritalStatus'] = X['MaritalStatus'].map({'Single':0, 'Married':1,'Divorced':0.5})\n",
    "        X.drop(\"EmployeeNumber\",inplace = True, axis = 1)\n",
    "        X.drop('JobLevel', inplace = True,axis = 1)\n",
    "\n",
    "        X = pd.get_dummies(X)\n",
    "        scale = MinMaxScaler()\n",
    "        X = pd.DataFrame(scale.fit_transform(X.values), columns=X.columns, index=X.index)\n",
    "\n",
    "        \n",
    "        X_train, X_test, y_train, y_test = train_test_split(X.drop('Attrition', axis=1), X[\"Attrition\"], \n",
    "                                                            test_size=0.15, random_state=SEED)\n",
    "        X_train, X_validation, y_train, y_validation = train_test_split(X_train, y_train, \n",
    "                                                        test_size=0.176, random_state=SEED)\n",
    "        return X_train,y_train,X_test,y_test,X_validation,y_validation"
   ]
  },
  {
   "cell_type": "code",
   "execution_count": 42,
   "metadata": {},
   "outputs": [],
   "source": [
    "from sklearn.pipeline import Pipeline\n",
    "\n",
    "pipe = Pipeline([\n",
    "    (\"data setter\",data_setter()),\n",
    "])\n",
    "\n",
    "import pickle\n",
    "\n",
    "file_name = \"emre.pickle\"\n",
    "with open(file_name, 'wb') as handle:\n",
    "    pickle.dump(pipe, handle, protocol=pickle.HIGHEST_PROTOCOL)"
   ]
  },
  {
   "cell_type": "code",
   "execution_count": 43,
   "metadata": {},
   "outputs": [],
   "source": [
    "data = pd.read_csv(\"data.csv\")"
   ]
  },
  {
   "cell_type": "code",
   "execution_count": 44,
   "metadata": {},
   "outputs": [
    {
     "data": {
      "text/plain": [
       "Index(['Age', 'Attrition', 'BusinessTravel', 'DailyRate', 'Department',\n",
       "       'DistanceFromHome', 'Education', 'EducationField', 'EmployeeCount',\n",
       "       'EmployeeNumber', 'EnvironmentSatisfaction', 'Gender', 'HourlyRate',\n",
       "       'JobInvolvement', 'JobLevel', 'JobRole', 'JobSatisfaction',\n",
       "       'MaritalStatus', 'MonthlyIncome', 'MonthlyRate', 'NumCompaniesWorked',\n",
       "       'Over18', 'OverTime', 'PercentSalaryHike', 'PerformanceRating',\n",
       "       'RelationshipSatisfaction', 'StandardHours', 'StockOptionLevel',\n",
       "       'TotalWorkingYears', 'TrainingTimesLastYear', 'WorkLifeBalance',\n",
       "       'YearsAtCompany', 'YearsInCurrentRole', 'YearsSinceLastPromotion',\n",
       "       'YearsWithCurrManager'],\n",
       "      dtype='object')"
      ]
     },
     "execution_count": 44,
     "metadata": {},
     "output_type": "execute_result"
    }
   ],
   "source": [
    "data.columns"
   ]
  },
  {
   "cell_type": "code",
   "execution_count": 45,
   "metadata": {},
   "outputs": [],
   "source": [
    "import pickle\n",
    "from data_setter import data_setter\n",
    "\n",
    "with open(\"emre.pickle\", \"rb\") as f:\n",
    "    pipe = pickle.load(f)"
   ]
  },
  {
   "cell_type": "code",
   "execution_count": 46,
   "metadata": {},
   "outputs": [],
   "source": [
    "import pandas as pd\n",
    "data = pd.read_csv(\"data.csv\")\n",
    "\n",
    "x1,x2,x3,x4,x5,x6 = pipe.transform(data)"
   ]
  },
  {
   "cell_type": "code",
   "execution_count": 47,
   "metadata": {},
   "outputs": [
    {
     "data": {
      "text/plain": [
       "array([0., 1.])"
      ]
     },
     "execution_count": 47,
     "metadata": {},
     "output_type": "execute_result"
    }
   ],
   "source": [
    "x1['PerformanceRating'].unique()"
   ]
  },
  {
   "cell_type": "code",
   "execution_count": null,
   "metadata": {},
   "outputs": [],
   "source": []
  }
 ],
 "metadata": {
  "kernelspec": {
   "display_name": "Python 3.8.8rc1 64-bit",
   "language": "python",
   "name": "python3"
  },
  "language_info": {
   "codemirror_mode": {
    "name": "ipython",
    "version": 3
   },
   "file_extension": ".py",
   "mimetype": "text/x-python",
   "name": "python",
   "nbconvert_exporter": "python",
   "pygments_lexer": "ipython3",
   "version": "3.8.8rc1"
  },
  "orig_nbformat": 4,
  "vscode": {
   "interpreter": {
    "hash": "66f5a7bbd6c943ffc34a53eb1c1f03aad673b1216fb5b79a025e16357e990e57"
   }
  }
 },
 "nbformat": 4,
 "nbformat_minor": 2
}
