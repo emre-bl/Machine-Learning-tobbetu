{
 "cells": [
  {
   "cell_type": "code",
   "execution_count": 98,
   "metadata": {},
   "outputs": [],
   "source": [
    "from sklearn.base import BaseEstimator, TransformerMixin"
   ]
  },
  {
   "cell_type": "code",
   "execution_count": 99,
   "metadata": {},
   "outputs": [],
   "source": [
    "class remove_one_valued_col(BaseEstimator,TransformerMixin):\n",
    "    def fit(self,X,y=None):\n",
    "        return self\n",
    "\n",
    "    def transform(self,X):\n",
    "        for col in X.columns:\n",
    "            if(X[col].nunique() == 1):\n",
    "                X.drop(col,inplace=True, axis=1)\n",
    "        return X\n",
    "\n",
    "class mapping(BaseEstimator,TransformerMixin):\n",
    "    def fit(self,X,y=None):\n",
    "        return self\n",
    "    def transform(self,X):\n",
    "        X['Attrition'] = X['Attrition'].map({'Yes':1, 'No':0})\n",
    "        X['OverTime'] = X['OverTime'].map({'Yes':1, 'No':0})\n",
    "        X['MaritalStatus'] = X['MaritalStatus'].map({'Single':0, 'Married':1,'Divorced':0.5})\n",
    "        X.drop(\"EmployeeNumber\",inplace = True, axis = 1)\n",
    "        X.drop('JobLevel', inplace = True,axis = 1)\n",
    "        return X\n",
    "\n",
    "class one_hot_encoder(BaseEstimator,TransformerMixin):\n",
    "    def fit(self,X,y=None):\n",
    "        return self\n",
    "    def transform(self,X):\n",
    "        import pandas as pd\n",
    "        X = pd.get_dummies(X)\n",
    "        return X\n",
    "\n",
    "class normalization(BaseEstimator,TransformerMixin):\n",
    "    def fit(self,X,y=None):\n",
    "        return self\n",
    "    def transform(self,X):\n",
    "        from sklearn.preprocessing import MinMaxScaler\n",
    "        scale = MinMaxScaler()\n",
    "        X = pd.DataFrame(scale.fit_transform(X.values), columns=X.columns, index=X.index)\n",
    "        return X\n",
    "\n",
    "class train_test_valid_split(BaseEstimator,TransformerMixin):\n",
    "    def fit(self,X,y=None):\n",
    "        return self\n",
    "    def transform(self,X):\n",
    "        from sklearn.model_selection import train_test_split\n",
    "        SEED = 12345\n",
    "        X_train, X_test, y_train, y_test = train_test_split(X.drop('Attrition', axis=1), X[\"Attrition\"], \n",
    "                                                            test_size=0.15, random_state=SEED)\n",
    "        X_train, X_validation, y_train, y_validation = train_test_split(X_train, y_train, \n",
    "                                                        test_size=0.176, random_state=SEED)\n",
    "        return X_train,y_train,X_test,y_test,X_validation,y_validation\n",
    "\n",
    "                "
   ]
  },
  {
   "cell_type": "code",
   "execution_count": 105,
   "metadata": {},
   "outputs": [],
   "source": [
    "from sklearn.pipeline import Pipeline\n",
    "\n",
    "pipe = Pipeline([\n",
    "    (\"one valued column remover\",remove_one_valued_col()),\n",
    "    (\"mapper\",mapping()),\n",
    "    (\"one hot encoder\",one_hot_encoder()),\n",
    "    (\"scaler\",normalization()),\n",
    "    (\"Train-Test-Validation Splitter\",train_test_valid_split())\n",
    "])"
   ]
  },
  {
   "cell_type": "code",
   "execution_count": 106,
   "metadata": {},
   "outputs": [],
   "source": [
    "import pickle\n",
    "\n",
    "file_name = \"preprocessing.pickle\"\n",
    "with open(file_name, 'wb') as handle:\n",
    "    pickle.dump(pipe, handle, protocol=pickle.HIGHEST_PROTOCOL)"
   ]
  },
  {
   "cell_type": "code",
   "execution_count": 107,
   "metadata": {},
   "outputs": [],
   "source": [
    "with open(file_name, 'rb') as handle:\n",
    "    pipelinee = pickle.load(handle)"
   ]
  },
  {
   "cell_type": "code",
   "execution_count": 117,
   "metadata": {},
   "outputs": [],
   "source": [
    "data = pd.read_csv(\"data.csv\")"
   ]
  },
  {
   "cell_type": "code",
   "execution_count": 118,
   "metadata": {},
   "outputs": [],
   "source": [
    "X_train,y_train,X_test,y_test,X_validation,y_validation = pipelinee.fit_transform(data)"
   ]
  },
  {
   "cell_type": "code",
   "execution_count": null,
   "metadata": {},
   "outputs": [],
   "source": []
  }
 ],
 "metadata": {
  "kernelspec": {
   "display_name": "Python 3.9.6 64-bit",
   "language": "python",
   "name": "python3"
  },
  "language_info": {
   "codemirror_mode": {
    "name": "ipython",
    "version": 3
   },
   "file_extension": ".py",
   "mimetype": "text/x-python",
   "name": "python",
   "nbconvert_exporter": "python",
   "pygments_lexer": "ipython3",
   "version": "3.9.6"
  },
  "orig_nbformat": 4,
  "vscode": {
   "interpreter": {
    "hash": "10afed49a6762d7df4ebe8287b2b982d81e7226d8e1c4032e987e1476c562bb9"
   }
  }
 },
 "nbformat": 4,
 "nbformat_minor": 2
}
